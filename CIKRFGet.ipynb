{
 "cells": [
  {
   "cell_type": "code",
   "execution_count": 44,
   "metadata": {},
   "outputs": [],
   "source": [
    "from bs4 import BeautifulSoup\n",
    "from selenium import webdriver\n",
    "from webdriver_manager.chrome import ChromeDriverManager\n",
    "import time\n",
    "try:\n",
    "    from PIL import Image\n",
    "except ImportError:\n",
    "    import Image\n",
    "import pytesseract\n",
    "import os"
   ]
  },
  {
   "cell_type": "code",
   "execution_count": 41,
   "metadata": {},
   "outputs": [],
   "source": [
    "# set paths\n",
    "# if don't have Tessract binary, get it here and install for one user: \n",
    "# https://github.com/UB-Mannheim/tesseract/wiki\n",
    "CAPTCHAPNG = os.path.join(os.path.expanduser(r'~\\Downloads'),'CIKRFcaptcha.png')\n",
    "pytesseract.pytesseract.tesseract_cmd = os.path.expanduser(r'~\\AppData\\Local\\Tesseract-OCR\\tesseract.exe')"
   ]
  },
  {
   "cell_type": "code",
   "execution_count": 6,
   "metadata": {
    "scrolled": true
   },
   "outputs": [
    {
     "name": "stderr",
     "output_type": "stream",
     "text": [
      "[WDM] - Current google-chrome version is 85.0.4183\n",
      "[WDM] - Get LATEST driver version for 85.0.4183\n"
     ]
    },
    {
     "name": "stdout",
     "output_type": "stream",
     "text": [
      " \n"
     ]
    },
    {
     "name": "stderr",
     "output_type": "stream",
     "text": [
      "[WDM] - There is no [win32] chromedriver for browser 85.0.4183 in cache\n",
      "[WDM] - Get LATEST driver version for 85.0.4183\n",
      "[WDM] - Trying to download new driver from http://chromedriver.storage.googleapis.com/85.0.4183.87/chromedriver_win32.zip\n",
      "[WDM] - Driver has been saved in cache [C:\\Users\\ai\\.wdm\\drivers\\chromedriver\\win32\\85.0.4183.87]\n"
     ]
    }
   ],
   "source": [
    "driver = webdriver.Chrome(ChromeDriverManager().install())"
   ]
  },
  {
   "cell_type": "code",
   "execution_count": 55,
   "metadata": {},
   "outputs": [],
   "source": [
    "def CIKRFget(url,driver,curAttempt=0,maxAttempt=20):\n",
    "    driver.get(url)\n",
    "    content = driver.page_source\n",
    "    soup = BeautifulSoup(content,\"html.parser\")\n",
    "    captchaFlag = soup.select('#captchaImg')\n",
    "    if captchaFlag:\n",
    "        with open(CAPTCHAPNG, 'wb') as file:\n",
    "            file.write(driver.find_element_by_xpath('//*[@id=\"captchaImg\"]').screenshot_as_png)\n",
    "        img = Image.open(CAPTCHAPNG)\n",
    "        \n",
    "\n",
    "        text = pytesseract.image_to_string(img, config='digits').strip()\n",
    "        formfield = driver.find_elements_by_xpath('//*[@id=\"captcha\"]')[0]\n",
    "        formfield.send_keys(text)\n",
    "        button = driver.find_elements_by_xpath('//*[@id=\"send\"]')[0]\n",
    "        button.click()\n",
    "        time.sleep(5)\n",
    "        if BeautifulSoup(driver.page_source,\"html.parser\").select('#captchaImg') and curAttempt< maxAttempt:\n",
    "            CIKRFget(url,driver,curAttempt+1,maxAttempt)\n",
    "        elif BeautifulSoup(driver.page_source,\"html.parser\").select('#captchaImg') and curAttempt>= maxAttempt:\n",
    "            return None\n",
    "        else:\n",
    "            return driver.page_source"
   ]
  },
  {
   "cell_type": "code",
   "execution_count": 62,
   "metadata": {},
   "outputs": [],
   "source": [
    "testURL = 'http://www.vybory.izbirkom.ru/region/izbirkom?action=show&vrn=4024029414046&region=3&prver=0&pronetvd=0'\n",
    "test = CIKRFget(testURL,driver,curAttempt=0,maxAttempt=20)"
   ]
  },
  {
   "cell_type": "code",
   "execution_count": 63,
   "metadata": {},
   "outputs": [
    {
     "data": {
      "text/plain": [
       "'<html><head>\\n<base href=\"http://www.bashkortostan.vybory.izbirkom.ru/\">\\n<link href=\"/css/report.css\" rel=\"stylesheet\" type=\"text/css\">\\n<title>Сведения о проводящихся выборах и референдумах</title>\\n<meta http-equiv=\"pragma\" content=\"no-cache\">\\n<meta http-equiv=\"cache-control\" content=\"no-cache\">\\n<meta http-equiv=\"expires\" content=\"0\">\\n\\n<script type=\"text/javascript\" async=\"\" src=\"http://www.google-analytics.com/ga.js\"></script><script type=\"text/javascript\">\\n\\t\\n\\t\\tfunction open_close(group_id)\\n\\t\\t{\\t\\t\\t\\n\\t\\t\\tfolder = document.getElementById(group_id + \"1\");\\n\\t\\t\\ti = 1;\\n\\t\\t\\twhile (folder != null) {\\n\\t\\t\\t\\tif (folder.className == \\'trFinrepHidden\\') {\\n\\t\\t\\t\\t\\tfolder.className = \\'trFinrep\\';\\n\\t\\t\\t\\t} else {\\n\\t\\t\\t\\t\\tfolder.className = \\'trFinrepHidden\\';\\n\\t\\t\\t\\t}\\n\\t\\t\\t\\ti++;\\t\\t\\n\\t\\t\\t\\tfolder = document.getElementById(group_id + \"\" + i);\\t\\t\\n\\t\\t\\t}\\t\\t\\n\\t\\t}\\n\\t\\n</script>\\n\\n</head>\\n\\n<body text=\"#000000\" link=\"#0000ff\" vlink=\"#0000ff\" alink=\"#ff0000\" leftmargin=\"0\" marginwidth=\"0\" topmargin=\"0\" marginheight=\"0\" bottommargin=\"0\">\\n\\n\\n<table cellpadding=\"0\" cellspacing=\"0\" width=\"100%\" border=\"0\">\\n\\t<tbody><tr>\\n\\t\\t<td align=\"center\" width=\"100%\">\\n\\t\\t\\t\\n\\t\\t</td>\\n\\t</tr>\\n</tbody></table>\\n\\n\\n\\t\\t\\n\\n\\n\\n\\n\\n<link href=\"header/00/00.css\" rel=\"stylesheet\" type=\"text/css\">\\n<link type=\"text/css\" rel=\"stylesheet\" href=\"header/00/fonts/PTS75F_stylesheet.css\">\\n\\n<div class=\"ib-header\">\\n    <div class=\"ib-header-wrapper\">\\n        <a class=\"ib-header-cik\" href=\"http://cikrf.ru\">\\n            <img src=\"header/00/header_bg.jpg\" alt=\"\">\\n        </a>\\n\\t\\t<a class=\"ib-header-link\" href=\"http://www.bashkortostan.vybory.izbirkom.ru/region/izbirkom\">Выборы, референдумы и иные формы прямого волеизъявления</a>\\n\\t\\t\\n    </div>\\n</div>\\n\\n\\n\\n\\n<table width=\"100%\" cellpadding=\"0\" cellspacing=\"0\" height=\"80%\" style=\"padding-left: 3px; padding-right: 3px;\">\\n\\t\\n\\t\\t<tbody><tr valign=\"top\" height=\"20px\">\\n\\t\\t\\t<td width=\"100%\" align=\"center\" height=\"20px\" valign=\"top\"><!-- history -->\\n\\t\\t\\t\\t<a href=\"region/izbirkom?action=show&amp;root_a=null&amp;vrn=4024029414046&amp;region=3&amp;global=null&amp;type=0&amp;prver=0&amp;pronetvd=0\">Территориальная избирательная комиссия муниципального района Ишимбайский район Республики Башкортостан</a>\\n\\t\\t\\t</td>\\n\\t\\t</tr>\\n\\t\\n\\t\\t<tr valign=\"top\" height=\"20px\">\\n\\t\\t\\t<td width=\"100%\" align=\"center\" height=\"20px\" valign=\"top\">\\n\\t\\t\\t\\n\\t\\t\\t\\t<form name=\"go_reg\">Нижестоящие избирательные комиссии:  <select name=\"gs\"><option val=\"\">---</option><option value=\"http://www.bashkortostan.vybory.izbirkom.ru/region/izbirkom?action=show&amp;root=24029002&amp;tvd=4024029414057&amp;vrn=4024029414046&amp;prver=0&amp;pronetvd=0&amp;region=3&amp;sub_region=0&amp;type=0&amp;vibid=4024029414057\">2 Второй</option></select>  <input type=\"Button\" name=\"go\" value=\"Перейти\" onclick=\"if(this.form.gs.value!=\\'\\' &amp;&amp; this.form.gs.value!=\\'---\\')self.location=this.form.gs.value\"></form>\\n\\n\\t\\t\\t\\n\\t\\t\\t</td>\\n\\t\\t</tr>\\n\\t\\n\\t<tr valign=\"top\" height=\"100%\">\\n\\t\\t<td valign=\"top\" height=\"100%\">\\n\\t\\t\\t<link href=\"css/0.css\" rel=\"stylesheet\" type=\"text/css\" xmlns:exsl=\"http://exslt.org/common\" xmlns=\"http://www.w3.org/TR/xhtml1/strict\"><table border=\"0\" cellpadding=\"3\" width=\"100%\" cellspacing=\"1\" bgcolor=\"white\">\\n<tbody><tr class=\"w2\" align=\"center\">\\n<td bgcolor=\"#555555\" class=\"headers\"><b>Сведения о выборах</b></td>\\n</tr>\\n<tr class=\"w2\" align=\"center\">\\n<td bgcolor=\"#555555\" class=\"headers\"><b>Дополнительные выборы  депутатов Совета сельского поселения Петровский сельсовет муниципального района Ишимбайский район Республики Башкортостан четвертого созыва</b></td>\\n</tr>\\n</tbody></table><table border=\"0\" cellpadding=\"5\" cellspacing=\"1\" width=\"100%\" bgcolor=\"white\">\\n<tbody><tr>\\n<td valign=\"top\" width=\"45%\"><b>Наименование комиссии</b></td><td>Территориальная избирательная комиссия муниципального района Ишимбайский район Республики Башкортостан</td>\\n</tr>\\n<tr>\\n<td><b>Дата официального опубликования (публикации) решения о назначении выборов/референдума</b></td><td>26.06.2020</td>\\n</tr>\\n<tr>\\n<td><b>Дата голосования</b></td><td>13.09.2020</td>\\n</tr>\\n</tbody></table><table style=\"border-top: 1px outset rgb(0, 0, 0)\" bgcolor=\"#ffffff\" border=\"0\" cellpadding=\"2\" cellspacing=\"1\" width=\"100%\">\\n<tbody>\\n<tr>\\n<td>&nbsp;</td>\\n</tr>\\n<tr>\\n<td class=\"tdCategory\"><b>СТАНДАРТНЫЕ ОТЧЕТЫ</b></td>\\n</tr>\\n<tr class=\"trReport\">\\n<td class=\"tdReport\"><nobr>\\n\\t\\t\\t\\t\\t&nbsp;&nbsp;<img src=\"img/form.gif\"><a href=\"http://www.bashkortostan.vybory.izbirkom.ru/region/region/bashkortostan?action=show&amp;root=1&amp;tvd=4024029414056&amp;vrn=4024029414046&amp;region=3&amp;global=&amp;sub_region=0&amp;prver=0&amp;pronetvd=0&amp;vibid=4024029414046&amp;type=220\">Сведения о кандидатах</a></nobr></td>\\n</tr>\\n<tr class=\"trReport\">\\n<td class=\"tdReport\"><nobr>\\n\\t\\t\\t\\t\\t&nbsp;&nbsp;<img src=\"img/form.gif\"><a href=\"http://www.bashkortostan.vybory.izbirkom.ru/region/region/bashkortostan?action=show&amp;root=1&amp;tvd=4024029414056&amp;vrn=4024029414046&amp;region=3&amp;global=&amp;sub_region=0&amp;prver=0&amp;pronetvd=0&amp;vibid=4024029414046&amp;type=237\">Список избирательных объединений, принимающих участие в выборах</a></nobr></td>\\n</tr>\\n<tr>\\n<td align=\"left\"></td>\\n</tr>\\n<tr>\\n<td align=\"left\"></td>\\n</tr>\\n<tr>\\n<td class=\"tdCategory\"><b>ХОД ГОЛОСОВАНИЯ</b></td>\\n</tr>\\n<tr class=\"trReport\">\\n<td class=\"tdReport\"><nobr>\\n\\t\\t\\t\\t\\t&nbsp;&nbsp;<img src=\"img/form.gif\"><a href=\"http://www.bashkortostan.vybory.izbirkom.ru/region/region/bashkortostan?action=show&amp;root=1&amp;tvd=4024029414056&amp;vrn=4024029414046&amp;region=3&amp;global=&amp;sub_region=0&amp;prver=0&amp;pronetvd=0&amp;vibid=4024029414056&amp;type=600\">Информация о количестве избирателей, получивших бюллетени при проведении досрочного голосования</a></nobr></td>\\n</tr>\\n<tr>\\n<td align=\"left\"></td>\\n</tr>\\n<tr>\\n<td align=\"left\"></td>\\n</tr>\\n<tr>\\n<td class=\"tdCategory\"><b>РЕЗУЛЬТАТЫ ВЫБОРОВ</b></td>\\n</tr>\\n<tr class=\"trReport\">\\n<td class=\"tdReport\"><nobr>\\n\\t\\t\\t\\t\\t&nbsp;&nbsp;<img src=\"img/form.gif\"><a href=\"http://www.bashkortostan.vybory.izbirkom.ru/region/region/bashkortostan?action=show&amp;root=1&amp;tvd=4024029414056&amp;vrn=4024029414046&amp;region=3&amp;global=&amp;sub_region=0&amp;prver=0&amp;pronetvd=0&amp;vibid=4024029414056&amp;type=426\">Данные о предварительных итогах голосования по одномандатному (многомандатному) округу</a></nobr></td>\\n</tr>\\n<tr class=\"trReport\">\\n<td class=\"tdReport\"><nobr>\\n\\t\\t\\t\\t\\t&nbsp;&nbsp;<img src=\"img/form.gif\"><a href=\"http://www.bashkortostan.vybory.izbirkom.ru/region/region/bashkortostan?action=show&amp;root=1&amp;tvd=4024029414056&amp;vrn=4024029414046&amp;region=3&amp;global=&amp;sub_region=0&amp;prver=0&amp;pronetvd=0&amp;vibid=4024029414056&amp;type=427\">Сводная таблица предварительных итогов голосования по одномандатному (многомандатному) округу</a></nobr></td>\\n</tr>\\n</tbody>\\n</table>\\n\\n\\t\\t</td>\\n\\t</tr>\\n</tbody></table>\\n\\n<br>\\n\\n<script type=\"text/javascript\">\\n  var _gaq = _gaq || [];\\n  _gaq.push([\\'_setAccount\\', \\'UA-26136728-1\\']);\\n  _gaq.push([\\'_setDomainName\\', \\'izbirkom.ru\\']);\\n  _gaq.push([\\'_setAllowLinker\\', true]);\\n  _gaq.push([\\'_trackPageview\\']);\\n\\n  (function() {\\n    var ga = document.createElement(\\'script\\'); ga.type = \\'text/javascript\\'; ga.async = true;\\n    ga.src = (\\'https:\\' == document.location.protocol ? \\'https://ssl\\' : \\'http://www\\') + \\'.google-analytics.com/ga.js\\';\\n    var s = document.getElementsByTagName(\\'script\\')[0]; s.parentNode.insertBefore(ga, s);\\n  })();\\n</script>\\n\\n\\n\\n\\n</body></html>'"
      ]
     },
     "execution_count": 63,
     "metadata": {},
     "output_type": "execute_result"
    }
   ],
   "source": [
    "test"
   ]
  }
 ],
 "metadata": {
  "kernelspec": {
   "display_name": "Python 3",
   "language": "python",
   "name": "python3"
  },
  "language_info": {
   "codemirror_mode": {
    "name": "ipython",
    "version": 3
   },
   "file_extension": ".py",
   "mimetype": "text/x-python",
   "name": "python",
   "nbconvert_exporter": "python",
   "pygments_lexer": "ipython3",
   "version": "3.7.7"
  }
 },
 "nbformat": 4,
 "nbformat_minor": 2
}
