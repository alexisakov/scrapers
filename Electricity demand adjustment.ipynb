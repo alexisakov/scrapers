{
 "cells": [
  {
   "cell_type": "markdown",
   "id": "062a54f0",
   "metadata": {},
   "source": [
    "# Коррекция потребления электроэнергии на сезонность и температурные аномалии"
   ]
  },
  {
   "cell_type": "markdown",
   "id": "9040e29a",
   "metadata": {},
   "source": [
    "Корректируем данные по потреблению в два этапа\n",
    "\n",
    "* находим температурные аномалии \n",
    "* с учетом температурных аномалий корректируем на сезонность\n",
    "\n",
    "Мы не даем здесь исходные данные, но приводим полный код расчетов."
   ]
  },
  {
   "cell_type": "markdown",
   "id": "9b1168b3",
   "metadata": {},
   "source": [
    "## Импорт библиотек"
   ]
  },
  {
   "cell_type": "code",
   "execution_count": null,
   "id": "a40fe5c7",
   "metadata": {},
   "outputs": [],
   "source": [
    "import warnings\n",
    "warnings.simplefilter(action='ignore', category=FutureWarning)\n",
    "import io\n",
    "from PIL import Image\n",
    "import os\n",
    "\n",
    "import pandas as pd\n",
    "import numpy as np\n",
    "\n",
    "from prophet import Prophet\n",
    "import sqlalchemy as sa\n",
    "import pyodbc\n",
    "\n",
    "import logging\n",
    "logging.getLogger('fbprophet').setLevel(logging.WARNING)\n",
    "\n",
    "import matplotlib.pyplot as plt"
   ]
  },
  {
   "cell_type": "code",
   "execution_count": null,
   "id": "1c8462f5",
   "metadata": {},
   "outputs": [],
   "source": [
    "# from https://stackoverflow.com/questions/11130156/suppress-stdout-stderr-print-from-python-functions\n",
    "class suppress_stdout_stderr(object):\n",
    "    '''\n",
    "    A context manager for doing a \"deep suppression\" of stdout and stderr in\n",
    "    Python, i.e. will suppress all print, even if the print originates in a\n",
    "    compiled C/Fortran sub-function.\n",
    "       This will not suppress raised exceptions, since exceptions are printed\n",
    "    to stderr just before a script exits, and after the context manager has\n",
    "    exited (at least, I think that is why it lets exceptions through).\n",
    "\n",
    "    '''\n",
    "    def __init__(self):\n",
    "        # Open a pair of null files\n",
    "        self.null_fds = [os.open(os.devnull, os.O_RDWR) for x in range(2)]\n",
    "        # Save the actual stdout (1) and stderr (2) file descriptors.\n",
    "        self.save_fds = (os.dup(1), os.dup(2))\n",
    "\n",
    "    def __enter__(self):\n",
    "        # Assign the null pointers to stdout and stderr.\n",
    "        os.dup2(self.null_fds[0], 1)\n",
    "        os.dup2(self.null_fds[1], 2)\n",
    "\n",
    "    def __exit__(self, *_):\n",
    "        # Re-assign the real stdout/stderr back to (1) and (2)\n",
    "        os.dup2(self.save_fds[0], 1)\n",
    "        os.dup2(self.save_fds[1], 2)\n",
    "        # Close the null files\n",
    "        os.close(self.null_fds[0])\n",
    "        os.close(self.null_fds[1])"
   ]
  },
  {
   "cell_type": "markdown",
   "id": "88c02c8b",
   "metadata": {},
   "source": [
    "## Получение данных - переписать на свой источник"
   ]
  },
  {
   "cell_type": "code",
   "execution_count": null,
   "id": "4ad1d12b",
   "metadata": {},
   "outputs": [],
   "source": [
    "conn = pyodbc.connect(XXXXX)"
   ]
  },
  {
   "cell_type": "code",
   "execution_count": null,
   "id": "2d746d3e",
   "metadata": {},
   "outputs": [],
   "source": [
    "df_te = pd.read_sql(\n",
    "\tr\"\"\"select Date, IndexTicker, Value from IndexValue (NOLOCK) where IndexTicker like 'OES%Temp' \"\"\"\n",
    "\t, conn\n",
    ")"
   ]
  },
  {
   "cell_type": "code",
   "execution_count": null,
   "id": "0e2adc9f",
   "metadata": {},
   "outputs": [],
   "source": [
    "df_te.IndexTicker = df_te.IndexTicker.str.extract(r'OES(.*)Temp',expand=False)"
   ]
  },
  {
   "cell_type": "code",
   "execution_count": null,
   "id": "2533439b",
   "metadata": {},
   "outputs": [],
   "source": [
    "df_te_pi = df_te.pivot(index=\"Date\", columns = \"IndexTicker\", values = \"Value\")"
   ]
  },
  {
   "cell_type": "code",
   "execution_count": null,
   "id": "bcacb9f8",
   "metadata": {},
   "outputs": [],
   "source": [
    "df_ed = pd.read_sql(\n",
    "\tr\"\"\"select Date, IndexTicker, Value from IndexValue (NOLOCK) where IndexTicker like 'OES%Cons'\"\"\"\n",
    "\t, conn\n",
    ")"
   ]
  },
  {
   "cell_type": "code",
   "execution_count": null,
   "id": "e43b2efe",
   "metadata": {},
   "outputs": [],
   "source": [
    "df_ed.IndexTicker = df_ed.IndexTicker.str.extract(r'OES(.*)Cons', expand=False)\n",
    "df_ed_pi = df_ed.pivot(index=\"Date\", columns = \"IndexTicker\", values = \"Value\")"
   ]
  },
  {
   "cell_type": "markdown",
   "id": "1a857781",
   "metadata": {},
   "source": [
    "## Находим температурные аномалии"
   ]
  },
  {
   "cell_type": "code",
   "execution_count": null,
   "id": "8b86842c",
   "metadata": {},
   "outputs": [],
   "source": [
    "def get_prophet_gap(df):\n",
    "    df_gap = df.copy()\n",
    "    df_gap.fillna(method='ffill',inplace=True)\n",
    "    df_gap.loc[:,'ds'] = df_gap.index\n",
    "    for region, data in df.items():\n",
    "        df_gap.loc[:,'y'] = df_gap[region]\n",
    "        m = Prophet()\n",
    "        with suppress_stdout_stderr():\n",
    "            m.fit(df_gap)\n",
    "        future = m.make_future_dataframe(periods=365)\n",
    "        forecast = m.predict(future)\n",
    "        forecast.set_index('ds',inplace=True)\n",
    "        df_gap.loc[:,region] =  df_gap['y'] - forecast['yhat']\n",
    "    return df_gap"
   ]
  },
  {
   "cell_type": "code",
   "execution_count": null,
   "id": "d3252ccb",
   "metadata": {},
   "outputs": [],
   "source": [
    "df_te_gap = get_prophet_gap(df_te_pi)"
   ]
  },
  {
   "cell_type": "code",
   "execution_count": null,
   "id": "73fdbae8",
   "metadata": {},
   "outputs": [],
   "source": [
    "df_te_gap.head()"
   ]
  },
  {
   "cell_type": "markdown",
   "id": "6fc0d78e",
   "metadata": {},
   "source": [
    "## Используем температурные аномалии для коррекции потребления электричества"
   ]
  },
  {
   "cell_type": "markdown",
   "id": "fbfd6258",
   "metadata": {},
   "source": [
    "В качестве регрессора используем оценку температурной аномалии и ее квадрат - так как экстремальные холод и жара обычно приводят к повышенному потреблению."
   ]
  },
  {
   "cell_type": "code",
   "execution_count": 4,
   "id": "e19815f9",
   "metadata": {},
   "outputs": [],
   "source": [
    "def get_prophet_gap_x_reg(df, df_ex):\n",
    "    df_gap = df.copy()\n",
    "    df_gap.fillna(method='ffill',inplace=True)\n",
    "    df_gap.loc[:,'ds'] = df_gap.index\n",
    "    for region, data in df.items():\n",
    "        df_gap.loc[:,'y'] = np.log(df_gap[region])\n",
    "        df_gap.loc[:,'t_gap'] = df_ex[region]\n",
    "        df_gap.loc[:,'t_gap_abs'] = np.power(df_ex[region], 2)\n",
    "        \n",
    "        m = Prophet()\n",
    "        m.add_regressor('t_gap')\n",
    "        m.add_regressor('t_gap_abs')\n",
    "        \n",
    "        with suppress_stdout_stderr():\n",
    "            m.fit(df_gap.dropna(axis=0))\n",
    "            \n",
    "        future = m.make_future_dataframe(periods=365)\n",
    "        future['t_gap'] = 0\n",
    "        future['t_gap_abs'] = 0\n",
    "\n",
    "        forecast = m.predict(future)\n",
    "        forecast.set_index('ds',inplace=True)\n",
    "\n",
    "        df_gap[region] = (df_gap['y']-forecast['yhat'])*100\n",
    "    return df_gap"
   ]
  },
  {
   "cell_type": "code",
   "execution_count": null,
   "id": "3f36ace8",
   "metadata": {},
   "outputs": [],
   "source": [
    "df_ed_gap = get_prophet_gap_x_reg(df_ed_pi, df_te_gap )"
   ]
  }
 ],
 "metadata": {
  "kernelspec": {
   "display_name": "Python 3 (ipykernel)",
   "language": "python",
   "name": "python3"
  },
  "language_info": {
   "codemirror_mode": {
    "name": "ipython",
    "version": 3
   },
   "file_extension": ".py",
   "mimetype": "text/x-python",
   "name": "python",
   "nbconvert_exporter": "python",
   "pygments_lexer": "ipython3",
   "version": "3.9.7"
  }
 },
 "nbformat": 4,
 "nbformat_minor": 5
}
